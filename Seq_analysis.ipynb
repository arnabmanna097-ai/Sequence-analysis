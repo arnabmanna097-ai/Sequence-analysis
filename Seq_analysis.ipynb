{
  "nbformat": 4,
  "nbformat_minor": 0,
  "metadata": {
    "colab": {
      "provenance": []
    },
    "kernelspec": {
      "name": "python3",
      "display_name": "Python 3"
    },
    "language_info": {
      "name": "python"
    }
  },
  "cells": [
    {
      "cell_type": "code",
      "execution_count": 20,
      "metadata": {
        "id": "gfWPTjhbKE-v",
        "colab": {
          "base_uri": "https://localhost:8080/"
        },
        "outputId": "2d52143a-cc5d-486f-a32d-b732e9794b3c"
      },
      "outputs": [
        {
          "output_type": "stream",
          "name": "stdout",
          "text": [
            "Requirement already satisfied: Biopython in /usr/local/lib/python3.12/dist-packages (1.85)\n",
            "Requirement already satisfied: pyjaspar in /usr/local/lib/python3.12/dist-packages (3.0.0)\n",
            "Requirement already satisfied: numpy in /usr/local/lib/python3.12/dist-packages (from Biopython) (2.0.2)\n",
            "Requirement already satisfied: wheel in /usr/local/lib/python3.12/dist-packages (from pyjaspar) (0.45.1)\n"
          ]
        }
      ],
      "source": [
        "#Install Biopython in notebook\n",
        "!pip install Biopython pyjaspar"
      ]
    },
    {
      "cell_type": "code",
      "source": [
        "#Import all important modules that are required\n",
        "from Bio.Seq import Seq\n",
        "from Bio import Entrez, SeqIO,motifs\n",
        "from pyjaspar import jaspardb"
      ],
      "metadata": {
        "id": "yTo4akSjpacW"
      },
      "execution_count": 42,
      "outputs": []
    },
    {
      "cell_type": "code",
      "source": [
        "#Fetching a gb file of Human MRGPRX2 from NCBI database using Entrez\n",
        "Entrez.mail='A.N.other@example.com'\n",
        "handle= Entrez.efetch(db='nucleotide',id='NM_054030', rettype='gb',retmode='text')\n",
        "#Execute the below print code to see if the fetching is successful\n",
        "# print(handle.read())\n",
        "\n"
      ],
      "metadata": {
        "collapsed": true,
        "id": "FgD6h2xGqBTe"
      },
      "execution_count": 78,
      "outputs": []
    },
    {
      "cell_type": "code",
      "source": [
        "#Reading a GenBank File into SeqRecord (SeqIO.read)\n",
        "record= SeqIO.read(handle,'gb')\n",
        "handle.close()"
      ],
      "metadata": {
        "id": "0WF1e2atrCzY"
      },
      "execution_count": 79,
      "outputs": []
    },
    {
      "cell_type": "code",
      "source": [
        "#to print the sequence use Bio.Seq module\n",
        "query_seq= record.seq\n",
        "print('Query Seq:',query_seq)"
      ],
      "metadata": {
        "colab": {
          "base_uri": "https://localhost:8080/"
        },
        "id": "ozVSWkzpspvn",
        "outputId": "faea62e5-58c6-4aab-cc0b-b00fea1c8560"
      },
      "execution_count": 29,
      "outputs": [
        {
          "output_type": "stream",
          "name": "stdout",
          "text": [
            "Query Seq: ACTCCAGATCCTGCAGGCATCTCCCCATCCTCAGCTGTTTGCCAGTCCCAGGAAAGCACTTCTCAACTCACCAACTCCAGTAGAAAGAAGGGTGTTAAGGGGCACCAGTGGAGGTTTTCTGAGCATGGATCCAACCACCCCGGCCTGGGGAACAGAAAGTACAACAGTGAATGGAAATGACCAAGCCCTTCTTCTGCTTTGTGGCAAGGAGACCCTGATCCCGGTCTTCCTGATCCTTTTCATTGCCCTGGTCGGGCTGGTAGGAAACGGGTTTGTGCTCTGGCTCCTGGGCTTCCGCATGCGCAGGAACGCCTTCTCTGTCTACGTCCTCAGCCTGGCCGGGGCCGACTTCCTCTTCCTCTGCTTCCAGATTATAAATTGCCTGGTGTACCTCAGTAACTTCTTCTGTTCCATCTCCATCAATTTCCCTAGCTTCTTCACCACTGTGATGACCTGTGCCTACCTTGCAGGCCTGAGCATGCTGAGCACCGTCAGCACCGAGCGCTGCCTGTCCGTCCTGTGGCCCATCTGGTATCGCTGCCGCCGCCCCAGACACCTGTCAGCGGTCGTGTGTGTCCTGCTCTGGGCCCTGTCCCTACTGCTGAGCATCTTGGAAGGGAAGTTCTGTGGCTTCTTATTTAGTGATGGTGACTCTGGTTGGTGTCAGACATTTGATTTCATCACTGCAGCGTGGCTGATTTTTTTATTCATGGTTCTCTGTGGGTCCAGTCTGGCCCTGCTGGTCAGGATCCTCTGTGGCTCCAGGGGTCTGCCACTGACCAGGCTGTACCTGACCATCCTGCTCACAGTGCTGGTGTTCCTCCTCTGCGGCCTGCCCTTTGGCATTCAGTGGTTCCTAATATTATGGATCTGGAAGGATTCTGATGTCTTATTTTGTCATATTCATCCAGTTTCAGTTGTCCTGTCATCTCTTAACAGCAGTGCCAACCCCATCATTTACTTCTTCGTGGGCTCTTTTAGGAAGCAGTGGCGGCTGCAGCAGCCGATCCTCAAGCTGGCTCTCCAGAGGGCTCTGCAGGACATTGCTGAGGTGGATCACAGTGAAGGATGCTTCCGTCAGGGCACCCCGGAGATGTCGAGAAGCAGTCTGGTGTAGAGATGGACAGCCTCTACTTCCATCAGATATATGTGGCTTTGAGAGGCAACTTTGCCCCTGTCTGTCTGATTTGCTGAACTTTCTCAGTCCTGATTTTAAAACAGTTAAGAGAGTCCTTGTGAGGATTAAGTGAGACAGTGCCTATGAAACAAACACTAAGTGCAGTGTCTCTGGAACTGCCTTACTCACAGGCTTCCACCACAGCCCTATGAGAGCTTTGCCAACTCTGCGGTCCATGACTGTTCCCACTTTTAATGAATCCTACCTTTCGCAGAAGGCTGAAAGCAGGGCAGAAAAGATCTACATTTCTTTGGACACTGCACTTGATAGGGACTCAAAGAATGTTATATTTTTAATTAATTTCTTTTTCTCTTCCGTACAATTTCTGTCTCAACAAAATTAGAAGAATTAAATTTAAAACTAGCTCCAAAAGAGCAGTCGTCTTTCATTTTGGCAGACCTTAGAATATCCCCCTAGCTTAATAAATCTTTGTTGAATGGCTTAATGAATGAATAAACTGGTTAATGTTTAAGTTAAACCTCTGAAAAGTCTCCATTTACCAGATTTGAGTCACTAAATTTATTGCTTTCACTACTTTTGAATTTTGCAAACATGAAATTAAGTTTTATAATTAGATAAATCAATGTCAACACATATTTAAAGTTTGAGGTACACTGTCTTCCTGTGGTTTCCTTTCACATGCCATCCCTTAAAATCCCAGCTACACGCCTTCCCATTCCTTCCCCTTTGCCTTTGTTCTAATCTTCCCTCTCTGGGGGCTCTCTAATTCGTCCTGGAAGTTTCCAGTGGTCTTATAGACTCCATGTTCTTGGAGGACAGGCTGTATGTCAGATTTACCTTTTATTCCGAAGAACTCGGAGCATTTATTTTGTTAATTAAATTGCACATATTTTTAAAAGTTACGTGTTCCACAGAATAAAATACTAATTGTAAA\n"
          ]
        }
      ]
    },
    {
      "cell_type": "code",
      "source": [
        "##print out SeqRecord attributes\n",
        "print('Record ID:',record.id)\n",
        "print('Record name:',record.name)\n",
        "print('Record description:',record.description)\n",
        "print('Record length:',len(record.seq))\n",
        "print('Molecule type:',record.annotations['molecule_type'])\n",
        "print('Organism:',record.annotations['organism'])\n",
        "print('DB Cross References:',record.dbxrefs)"
      ],
      "metadata": {
        "colab": {
          "base_uri": "https://localhost:8080/"
        },
        "id": "FFW64OIJs9q6",
        "outputId": "1acfdc4a-05d1-45a1-a8ec-19541dd567df"
      },
      "execution_count": 30,
      "outputs": [
        {
          "output_type": "stream",
          "name": "stdout",
          "text": [
            "Record ID: NM_054030.4\n",
            "Record name: NM_054030\n",
            "Record description: Homo sapiens MAS related GPR family member X2 (MRGPRX2), transcript variant 2, mRNA\n",
            "Record length: 2072\n",
            "Molecule type: mRNA\n",
            "Organism: Homo sapiens\n",
            "DB Cross References: []\n"
          ]
        }
      ]
    },
    {
      "cell_type": "code",
      "source": [
        "#print out the SeqFeatures attributes\n",
        "#To find out feature types with the help of for loop\n",
        "for feature in record.features:\n",
        "  print(feature.type)\n",
        "#To print out haow many features are there\n",
        "print('Number of features:',len(record.features))"
      ],
      "metadata": {
        "colab": {
          "base_uri": "https://localhost:8080/"
        },
        "collapsed": true,
        "id": "LouozFDUtsiP",
        "outputId": "a83a2ac3-e932-48d6-f5f8-1bd77ea72a7c"
      },
      "execution_count": 37,
      "outputs": [
        {
          "output_type": "stream",
          "name": "stdout",
          "text": [
            "source\n",
            "gene\n",
            "exon\n",
            "exon\n",
            "CDS\n",
            "misc_feature\n",
            "misc_feature\n",
            "misc_feature\n",
            "misc_feature\n",
            "misc_feature\n",
            "misc_feature\n",
            "misc_feature\n",
            "Number of features: 12\n"
          ]
        }
      ]
    },
    {
      "cell_type": "code",
      "source": [
        "for feature in record.features:\n",
        "  print('features types:',feature.type)\n",
        "  print('Features locations:',feature.location)\n",
        "  print('Features qualifiers:',feature.qualifiers)\n"
      ],
      "metadata": {
        "colab": {
          "base_uri": "https://localhost:8080/"
        },
        "collapsed": true,
        "id": "LmrCahLDUewv",
        "outputId": "1def679d-39a3-45b3-f4d0-1f0cf4f15280"
      },
      "execution_count": 81,
      "outputs": [
        {
          "output_type": "stream",
          "name": "stdout",
          "text": [
            "features types: source\n",
            "Features locations: [0:2072](+)\n",
            "Features qualifiers: {'organism': ['Homo sapiens'], 'mol_type': ['mRNA'], 'db_xref': ['taxon:9606'], 'chromosome': ['11'], 'map': ['11p15.1']}\n",
            "features types: gene\n",
            "Features locations: [0:2072](+)\n",
            "Features qualifiers: {'gene': ['MRGPRX2'], 'gene_synonym': ['MGRG3; MRGX2'], 'note': ['MAS related GPR family member X2'], 'db_xref': ['GeneID:117194', 'HGNC:HGNC:17983', 'MIM:607228']}\n",
            "features types: exon\n",
            "Features locations: [0:99](+)\n",
            "Features qualifiers: {'gene': ['MRGPRX2'], 'gene_synonym': ['MGRG3; MRGX2'], 'inference': ['alignment:Splign:2.1.0']}\n",
            "features types: exon\n",
            "Features locations: [99:2072](+)\n",
            "Features qualifiers: {'gene': ['MRGPRX2'], 'gene_synonym': ['MGRG3; MRGX2'], 'inference': ['alignment:Splign:2.1.0']}\n",
            "features types: CDS\n",
            "Features locations: [124:1117](+)\n",
            "Features qualifiers: {'gene': ['MRGPRX2'], 'gene_synonym': ['MGRG3; MRGX2'], 'note': ['G protein-coupled receptor MRGX2; Mas-related G protein-coupled receptor G3; MAS-related GPR, member X2'], 'codon_start': ['1'], 'product': ['mas-related G-protein coupled receptor member X2'], 'protein_id': ['NP_473371.1'], 'db_xref': ['CCDS:CCDS7847.1', 'GeneID:117194', 'HGNC:HGNC:17983', 'MIM:607228'], 'translation': ['MDPTTPAWGTESTTVNGNDQALLLLCGKETLIPVFLILFIALVGLVGNGFVLWLLGFRMRRNAFSVYVLSLAGADFLFLCFQIINCLVYLSNFFCSISINFPSFFTTVMTCAYLAGLSMLSTVSTERCLSVLWPIWYRCRRPRHLSAVVCVLLWALSLLLSILEGKFCGFLFSDGDSGWCQTFDFITAAWLIFLFMVLCGSSLALLVRILCGSRGLPLTRLYLTILLTVLVFLLCGLPFGIQWFLILWIWKDSDVLFCHIHPVSVVLSSLNSSANPIIYFFVGSFRKQWRLQQPILKLALQRALQDIAEVDHSEGCFRQGTPEMSRSSLV']}\n",
            "features types: misc_feature\n",
            "Features locations: [223:286](+)\n",
            "Features qualifiers: {'gene': ['MRGPRX2'], 'gene_synonym': ['MGRG3; MRGX2'], 'note': ['propagated from UniProtKB/Swiss-Prot (Q96LB1.1); transmembrane region']}\n",
            "features types: misc_feature\n",
            "Features locations: [313:376](+)\n",
            "Features qualifiers: {'gene': ['MRGPRX2'], 'gene_synonym': ['MGRG3; MRGX2'], 'note': ['propagated from UniProtKB/Swiss-Prot (Q96LB1.1); transmembrane region']}\n",
            "features types: misc_feature\n",
            "Features locations: [412:475](+)\n",
            "Features qualifiers: {'gene': ['MRGPRX2'], 'gene_synonym': ['MGRG3; MRGX2'], 'note': ['propagated from UniProtKB/Swiss-Prot (Q96LB1.1); transmembrane region']}\n",
            "features types: misc_feature\n",
            "Features locations: [556:619](+)\n",
            "Features qualifiers: {'gene': ['MRGPRX2'], 'gene_synonym': ['MGRG3; MRGX2'], 'note': ['propagated from UniProtKB/Swiss-Prot (Q96LB1.1); transmembrane region']}\n",
            "features types: misc_feature\n",
            "Features locations: [676:739](+)\n",
            "Features qualifiers: {'gene': ['MRGPRX2'], 'gene_synonym': ['MGRG3; MRGX2'], 'note': ['propagated from UniProtKB/Swiss-Prot (Q96LB1.1); transmembrane region']}\n",
            "features types: misc_feature\n",
            "Features locations: [808:871](+)\n",
            "Features qualifiers: {'gene': ['MRGPRX2'], 'gene_synonym': ['MGRG3; MRGX2'], 'note': ['propagated from UniProtKB/Swiss-Prot (Q96LB1.1); transmembrane region']}\n",
            "features types: misc_feature\n",
            "Features locations: [916:979](+)\n",
            "Features qualifiers: {'gene': ['MRGPRX2'], 'gene_synonym': ['MGRG3; MRGX2'], 'note': ['propagated from UniProtKB/Swiss-Prot (Q96LB1.1); transmembrane region']}\n"
          ]
        }
      ]
    },
    {
      "cell_type": "code",
      "source": [
        "#to print out first five features, their location and qualifiers\n",
        "for features in record.features[:5]:\n",
        "  # print('First five features:',features.type)\n",
        "  # print('Features locations:',features.location)\n",
        "  # print('Features qualifiers:',features.qualifiers)"
      ],
      "metadata": {
        "colab": {
          "base_uri": "https://localhost:8080/"
        },
        "id": "Ayuh_yzeuA2F",
        "outputId": "d9505ef8-818f-47d6-9805-2663ebb49381"
      },
      "execution_count": 32,
      "outputs": [
        {
          "output_type": "stream",
          "name": "stdout",
          "text": [
            "First five features: source\n",
            "Features locations: [0:2072](+)\n",
            "Features qualifiers: {'organism': ['Homo sapiens'], 'mol_type': ['mRNA'], 'db_xref': ['taxon:9606'], 'chromosome': ['11'], 'map': ['11p15.1']}\n",
            "First five features: gene\n",
            "Features locations: [0:2072](+)\n",
            "Features qualifiers: {'gene': ['MRGPRX2'], 'gene_synonym': ['MGRG3; MRGX2'], 'note': ['MAS related GPR family member X2'], 'db_xref': ['GeneID:117194', 'HGNC:HGNC:17983', 'MIM:607228']}\n",
            "First five features: exon\n",
            "Features locations: [0:99](+)\n",
            "Features qualifiers: {'gene': ['MRGPRX2'], 'gene_synonym': ['MGRG3; MRGX2'], 'inference': ['alignment:Splign:2.1.0']}\n",
            "First five features: exon\n",
            "Features locations: [99:2072](+)\n",
            "Features qualifiers: {'gene': ['MRGPRX2'], 'gene_synonym': ['MGRG3; MRGX2'], 'inference': ['alignment:Splign:2.1.0']}\n",
            "First five features: CDS\n",
            "Features locations: [124:1117](+)\n",
            "Features qualifiers: {'gene': ['MRGPRX2'], 'gene_synonym': ['MGRG3; MRGX2'], 'note': ['G protein-coupled receptor MRGX2; Mas-related G protein-coupled receptor G3; MAS-related GPR, member X2'], 'codon_start': ['1'], 'product': ['mas-related G-protein coupled receptor member X2'], 'protein_id': ['NP_473371.1'], 'db_xref': ['CCDS:CCDS7847.1', 'GeneID:117194', 'HGNC:HGNC:17983', 'MIM:607228'], 'translation': ['MDPTTPAWGTESTTVNGNDQALLLLCGKETLIPVFLILFIALVGLVGNGFVLWLLGFRMRRNAFSVYVLSLAGADFLFLCFQIINCLVYLSNFFCSISINFPSFFTTVMTCAYLAGLSMLSTVSTERCLSVLWPIWYRCRRPRHLSAVVCVLLWALSLLLSILEGKFCGFLFSDGDSGWCQTFDFITAAWLIFLFMVLCGSSLALLVRILCGSRGLPLTRLYLTILLTVLVFLLCGLPFGIQWFLILWIWKDSDVLFCHIHPVSVVLSSLNSSANPIIYFFVGSFRKQWRLQQPILKLALQRALQDIAEVDHSEGCFRQGTPEMSRSSLV']}\n"
          ]
        }
      ]
    },
    {
      "cell_type": "code",
      "source": [
        "#To print out genes from one of the feature types\n",
        "#first i will create an empty list\n",
        "gene_name= []\n",
        "for features in record.features:\n",
        "  if features.type=='gene':\n",
        "    gene_name.append(features.qualifiers.get('gene',['unknown']))\n",
        "print('genes are:',gene_name)"
      ],
      "metadata": {
        "colab": {
          "base_uri": "https://localhost:8080/"
        },
        "id": "cx5U4fxxuvSa",
        "outputId": "2d32b8a4-c16b-4f06-d07b-89b05b8cba29"
      },
      "execution_count": 75,
      "outputs": [
        {
          "output_type": "stream",
          "name": "stdout",
          "text": [
            "genes are: [['IL6']]\n"
          ]
        }
      ]
    },
    {
      "cell_type": "code",
      "source": [
        "#To print out protein sequences from CDS\n",
        "protein=[]\n",
        "for features in record.features:\n",
        "  if features.type=='CDS':\n",
        "    protein.append(features.qualifiers.get('translation',['No translational available']))\n",
        "print('Protein Sequence:',protein)"
      ],
      "metadata": {
        "colab": {
          "base_uri": "https://localhost:8080/"
        },
        "id": "mgqCbggVxODx",
        "outputId": "aca507e5-a733-4734-a842-81e64d49093b"
      },
      "execution_count": 34,
      "outputs": [
        {
          "output_type": "stream",
          "name": "stdout",
          "text": [
            "Protein Sequence: [['MDPTTPAWGTESTTVNGNDQALLLLCGKETLIPVFLILFIALVGLVGNGFVLWLLGFRMRRNAFSVYVLSLAGADFLFLCFQIINCLVYLSNFFCSISINFPSFFTTVMTCAYLAGLSMLSTVSTERCLSVLWPIWYRCRRPRHLSAVVCVLLWALSLLLSILEGKFCGFLFSDGDSGWCQTFDFITAAWLIFLFMVLCGSSLALLVRILCGSRGLPLTRLYLTILLTVLVFLLCGLPFGIQWFLILWIWKDSDVLFCHIHPVSVVLSSLNSSANPIIYFFVGSFRKQWRLQQPILKLALQRALQDIAEVDHSEGCFRQGTPEMSRSSLV']]\n"
          ]
        }
      ]
    },
    {
      "cell_type": "code",
      "source": [
        "#Search a particular motif by ID using pyjaspar\n",
        "from pyjaspar import jaspardb\n",
        "jdb= jaspardb(release='JASPAR2024')\n",
        "\n",
        "motif=jdb.fetch_motif_by_id('MA0139.1')\n",
        "print('Motif name:',motif.name)\n",
        "print('Motif Matrix ID:',motif.matrix_id)\n",
        "print('Consensus:', motif.consensus)\n",
        "print('Species:',motif.species)"
      ],
      "metadata": {
        "colab": {
          "base_uri": "https://localhost:8080/"
        },
        "id": "gY2i21d97dJc",
        "outputId": "fbac63ea-cbde-4d2b-b9ac-25a8d18ffbf5"
      },
      "execution_count": 45,
      "outputs": [
        {
          "output_type": "stream",
          "name": "stdout",
          "text": [
            "Motif name: CTCF\n",
            "Motif Matrix ID: MA0139.1\n",
            "Consensus: TGGCCACCAGGGGGCGCTA\n",
            "Species: ['9606']\n"
          ]
        }
      ]
    },
    {
      "cell_type": "code",
      "source": [
        "#PSSM(Position Specific Scoring MAtrix) and scan the query sequence aginst the motif\n",
        "from Bio.Seq import Seq\n",
        "from Bio import Entrez, SeqIO,motifs\n",
        "from pyjaspar import jaspardb\n",
        "\n",
        "Entrez.mail='A.M.Other@example.com'\n",
        "handle1= Entrez.efetch(db='nucleotide',id='NM_000600.5', rettype='gb',retmode='text')\n",
        "record1=SeqIO.read(handle1,'gb')\n",
        "handle1.close()\n",
        "\n",
        "query_sequence= record1.seq\n",
        "print(query_sequence)\n",
        "\n",
        "jdb= jaspardb(release='JASPAR2024')\n",
        "motif1=jdb.fetch_motif_by_id('MA0139.1')\n",
        "PSSM = motif.pssm #motif.pssm returns the PSSM for the motif and you store it in the variable PSSM.\n",
        "print('PSSM max score:',PSSM.max)\n",
        "print('pssm min score:', PSSM.min)\n",
        "print('Scanning for motif occurance in query region')\n",
        "for pos, score in PSSM.search(query_sequence,threshold=2):\n",
        "  print(f'Motif found on Position:{pos}, Score:{score:.1f}')\n"
      ],
      "metadata": {
        "colab": {
          "base_uri": "https://localhost:8080/"
        },
        "id": "ezg3FwQ58lmu",
        "outputId": "041972a8-96e1-4a45-a773-9a77870f7a01"
      },
      "execution_count": 84,
      "outputs": [
        {
          "output_type": "stream",
          "name": "stdout",
          "text": [
            "ATTCTGCCCTCGAGCCCACCGGGAACGAAAGAGAAGCTCTATCTCCCCTCCAGGAGCCCAGCTATGAACTCCTTCTCCACAAGCGCCTTCGGTCCAGTTGCCTTCTCCCTGGGGCTGCTCCTGGTGTTGCCTGCTGCCTTCCCTGCCCCAGTACCCCCAGGAGAAGATTCCAAAGATGTAGCCGCCCCACACAGACAGCCACTCACCTCTTCAGAACGAATTGACAAACAAATTCGGTACATCCTCGACGGCATCTCAGCCCTGAGAAAGGAGACATGTAACAAGAGTAACATGTGTGAAAGCAGCAAAGAGGCACTGGCAGAAAACAACCTGAACCTTCCAAAGATGGCTGAAAAAGATGGATGCTTCCAATCTGGATTCAATGAGGAGACTTGCCTGGTGAAAATCATCACTGGTCTTTTGGAGTTTGAGGTATACCTAGAGTACCTCCAGAACAGATTTGAGAGTAGTGAGGAACAAGCCAGAGCTGTGCAGATGAGTACAAAAGTCCTGATCCAGTTCCTGCAGAAAAAGGCAAAGAATCTAGATGCAATAACCACCCCTGACCCAACCACAAATGCCAGCCTGCTGACGAAGCTGCAGGCACAGAACCAGTGGCTGCAGGACATGACAACTCATCTCATTCTGCGCAGCTTTAAGGAGTTCCTGCAGTCCAGCCTGAGGGCTCTTCGGCAAATGTAGCATGGGCACCTCAGATTGTTGTTGTTAATGGGCATTCCTTCTTCTGGTCAGAAACCTGTCCACTGGGCACAGAACTTATGTTGTTCTCTATGGAGAACTAAAAGTATGAGCGTTAGGACACTATTTTAATTATTTTTAATTTATTAATATTTAAATATGTGAAGCTGAGTTAATTTATGTAAGTCATATTTATATTTTTAAGAAGTACCACTTGAAACATTTTATGTATTAGTTTTGAAATAATAATGGAAAGTGGCTATGCAGTTTGAATATCCTTTGTTTCAGAGCCAGATCATTTCTTGGAAAGTGTAGGCTTACCTCAAATAAATGGCTAACTTATACATATTTTTAAAGAAATATTTATATTGTATTTATATAATGTATAAATGGTTTTTATACCAATAAATGGCATTTTAAAAAATTCA\n",
            "PSSM max score: 26.120319102184432\n",
            "pssm min score: -inf\n",
            "Scanning for motif occurance in query region\n",
            "Motif found on Position:-1016, Score:3.4\n",
            "Motif found on Position:-979, Score:5.3\n",
            "Motif found on Position:-394, Score:8.2\n",
            "Motif found on Position:1097, Score:2.0\n"
          ]
        }
      ]
    },
    {
      "cell_type": "code",
      "source": [],
      "metadata": {
        "id": "KKZoIv_58kgE"
      },
      "execution_count": null,
      "outputs": []
    },
    {
      "cell_type": "code",
      "source": [
        "#To Inspect features (exons, CDS, UTRs):\n",
        "for f in record.features:\n",
        "    print(f.type, f.location, f.qualifiers.get('product', f.qualifiers.get('note', '')))"
      ],
      "metadata": {
        "colab": {
          "base_uri": "https://localhost:8080/"
        },
        "id": "_I8phvyK1AG3",
        "outputId": "cc11adb8-05cd-4a23-9295-6f698fc5f7d3"
      },
      "execution_count": 38,
      "outputs": [
        {
          "output_type": "stream",
          "name": "stdout",
          "text": [
            "source [0:2072](+) \n",
            "gene [0:2072](+) ['MAS related GPR family member X2']\n",
            "exon [0:99](+) \n",
            "exon [99:2072](+) \n",
            "CDS [124:1117](+) ['mas-related G-protein coupled receptor member X2']\n",
            "misc_feature [223:286](+) ['propagated from UniProtKB/Swiss-Prot (Q96LB1.1); transmembrane region']\n",
            "misc_feature [313:376](+) ['propagated from UniProtKB/Swiss-Prot (Q96LB1.1); transmembrane region']\n",
            "misc_feature [412:475](+) ['propagated from UniProtKB/Swiss-Prot (Q96LB1.1); transmembrane region']\n",
            "misc_feature [556:619](+) ['propagated from UniProtKB/Swiss-Prot (Q96LB1.1); transmembrane region']\n",
            "misc_feature [676:739](+) ['propagated from UniProtKB/Swiss-Prot (Q96LB1.1); transmembrane region']\n",
            "misc_feature [808:871](+) ['propagated from UniProtKB/Swiss-Prot (Q96LB1.1); transmembrane region']\n",
            "misc_feature [916:979](+) ['propagated from UniProtKB/Swiss-Prot (Q96LB1.1); transmembrane region']\n"
          ]
        }
      ]
    },
    {
      "cell_type": "code",
      "metadata": {
        "colab": {
          "base_uri": "https://localhost:8080/"
        },
        "id": "5e270251",
        "outputId": "267fab88-3556-43aa-9083-491607effdaa"
      },
      "source": [
        "# To get the sequence of a specific gene\n",
        "gene_name_to_find = 'MRGPRX2'\n",
        "gene_sequence = None\n",
        "\n",
        "for feature in record.features:\n",
        "    if feature.type == 'gene':\n",
        "        if gene_name_to_find in feature.qualifiers.get('gene', []):\n",
        "            gene_sequence = feature.extract(record.seq)\n",
        "            break  # Stop once the gene is found\n",
        "\n",
        "if gene_sequence:\n",
        "    print(f\"Sequence of {gene_name_to_find}: {gene_sequence}\")\n",
        "else:\n",
        "    print(f\"Gene '{gene_name_to_find}' not found in the record.\")"
      ],
      "execution_count": 82,
      "outputs": [
        {
          "output_type": "stream",
          "name": "stdout",
          "text": [
            "Sequence of MRGPRX2: ACTCCAGATCCTGCAGGCATCTCCCCATCCTCAGCTGTTTGCCAGTCCCAGGAAAGCACTTCTCAACTCACCAACTCCAGTAGAAAGAAGGGTGTTAAGGGGCACCAGTGGAGGTTTTCTGAGCATGGATCCAACCACCCCGGCCTGGGGAACAGAAAGTACAACAGTGAATGGAAATGACCAAGCCCTTCTTCTGCTTTGTGGCAAGGAGACCCTGATCCCGGTCTTCCTGATCCTTTTCATTGCCCTGGTCGGGCTGGTAGGAAACGGGTTTGTGCTCTGGCTCCTGGGCTTCCGCATGCGCAGGAACGCCTTCTCTGTCTACGTCCTCAGCCTGGCCGGGGCCGACTTCCTCTTCCTCTGCTTCCAGATTATAAATTGCCTGGTGTACCTCAGTAACTTCTTCTGTTCCATCTCCATCAATTTCCCTAGCTTCTTCACCACTGTGATGACCTGTGCCTACCTTGCAGGCCTGAGCATGCTGAGCACCGTCAGCACCGAGCGCTGCCTGTCCGTCCTGTGGCCCATCTGGTATCGCTGCCGCCGCCCCAGACACCTGTCAGCGGTCGTGTGTGTCCTGCTCTGGGCCCTGTCCCTACTGCTGAGCATCTTGGAAGGGAAGTTCTGTGGCTTCTTATTTAGTGATGGTGACTCTGGTTGGTGTCAGACATTTGATTTCATCACTGCAGCGTGGCTGATTTTTTTATTCATGGTTCTCTGTGGGTCCAGTCTGGCCCTGCTGGTCAGGATCCTCTGTGGCTCCAGGGGTCTGCCACTGACCAGGCTGTACCTGACCATCCTGCTCACAGTGCTGGTGTTCCTCCTCTGCGGCCTGCCCTTTGGCATTCAGTGGTTCCTAATATTATGGATCTGGAAGGATTCTGATGTCTTATTTTGTCATATTCATCCAGTTTCAGTTGTCCTGTCATCTCTTAACAGCAGTGCCAACCCCATCATTTACTTCTTCGTGGGCTCTTTTAGGAAGCAGTGGCGGCTGCAGCAGCCGATCCTCAAGCTGGCTCTCCAGAGGGCTCTGCAGGACATTGCTGAGGTGGATCACAGTGAAGGATGCTTCCGTCAGGGCACCCCGGAGATGTCGAGAAGCAGTCTGGTGTAGAGATGGACAGCCTCTACTTCCATCAGATATATGTGGCTTTGAGAGGCAACTTTGCCCCTGTCTGTCTGATTTGCTGAACTTTCTCAGTCCTGATTTTAAAACAGTTAAGAGAGTCCTTGTGAGGATTAAGTGAGACAGTGCCTATGAAACAAACACTAAGTGCAGTGTCTCTGGAACTGCCTTACTCACAGGCTTCCACCACAGCCCTATGAGAGCTTTGCCAACTCTGCGGTCCATGACTGTTCCCACTTTTAATGAATCCTACCTTTCGCAGAAGGCTGAAAGCAGGGCAGAAAAGATCTACATTTCTTTGGACACTGCACTTGATAGGGACTCAAAGAATGTTATATTTTTAATTAATTTCTTTTTCTCTTCCGTACAATTTCTGTCTCAACAAAATTAGAAGAATTAAATTTAAAACTAGCTCCAAAAGAGCAGTCGTCTTTCATTTTGGCAGACCTTAGAATATCCCCCTAGCTTAATAAATCTTTGTTGAATGGCTTAATGAATGAATAAACTGGTTAATGTTTAAGTTAAACCTCTGAAAAGTCTCCATTTACCAGATTTGAGTCACTAAATTTATTGCTTTCACTACTTTTGAATTTTGCAAACATGAAATTAAGTTTTATAATTAGATAAATCAATGTCAACACATATTTAAAGTTTGAGGTACACTGTCTTCCTGTGGTTTCCTTTCACATGCCATCCCTTAAAATCCCAGCTACACGCCTTCCCATTCCTTCCCCTTTGCCTTTGTTCTAATCTTCCCTCTCTGGGGGCTCTCTAATTCGTCCTGGAAGTTTCCAGTGGTCTTATAGACTCCATGTTCTTGGAGGACAGGCTGTATGTCAGATTTACCTTTTATTCCGAAGAACTCGGAGCATTTATTTTGTTAATTAAATTGCACATATTTTTAAAAGTTACGTGTTCCACAGAATAAAATACTAATTGTAAA\n"
          ]
        }
      ]
    },
    {
      "cell_type": "code",
      "metadata": {
        "id": "f000206e"
      },
      "source": [
        "# To extract sequences for all CDS features\n",
        "cds_sequences = []\n",
        "\n",
        "for feature in record.features:\n",
        "    if feature.type == 'CDS':\n",
        "        cds_sequences.append(feature.extract(record.seq))\n",
        "\n",
        "print(\"CDS Sequences:\")\n",
        "for i, seq in enumerate(cds_sequences):\n",
        "    print(f\"CDS {i+1}: {seq}\")"
      ],
      "execution_count": null,
      "outputs": []
    }
  ]
}